{
 "cells": [
  {
   "cell_type": "code",
   "execution_count": 1,
   "metadata": {},
   "outputs": [
    {
     "name": "stdout",
     "output_type": "stream",
     "text": [
      "48和18的最大公约数是6\n"
     ]
    }
   ],
   "source": [
    "#1. 编写 Python 程序，求两个正整数的最大公约数。\n",
    "def gcd(a,b):\n",
    "    while b!=0:\n",
    "        a,b=b,a%b\n",
    "    return a\n",
    "num1=int(input(\"请输入第一个正整数:\"))\n",
    "num2=int(input(\"请输入第一个正整数:\"))\n",
    "print(f\"{num1}和{num2}的最大公约数是{gcd(num1,num2)}\")"
   ]
  },
  {
   "cell_type": "code",
   "execution_count": 3,
   "metadata": {},
   "outputs": [
    {
     "name": "stdout",
     "output_type": "stream",
     "text": [
      "良好\n"
     ]
    }
   ],
   "source": [
    "#2. 用if语句实现百分制转等级制（考试成绩，60分以下不合格，60—74分合格，75—89分为良好，90分以上为优秀）。\n",
    "grade=int(input(\"请输入分数：\"))\n",
    "if grade<60:\n",
    "    print(\"不合格\")\n",
    "elif grade >=60 and grade <=74:\n",
    "    print(\"合格\")\n",
    "elif grade >=75 and grade <=89:\n",
    "    print(\"良好\")\n",
    "else:\n",
    "    print(\"优秀\")"
   ]
  },
  {
   "cell_type": "code",
   "execution_count": 4,
   "metadata": {},
   "outputs": [
    {
     "name": "stdout",
     "output_type": "stream",
     "text": [
      "转化成二进制后\n",
      "\n",
      "00000000000000000000000001110010.10000011100101011000000100000110"
     ]
    }
   ],
   "source": [
    "# 3. 编写Python程序，完成十进制小数到二进制小数的转换\n",
    "import numpy as np\n",
    "x=float(input(\"请输入一个小数\"))\n",
    "x_int=int(x)\n",
    "x_float=x-x_int\n",
    "intb = np.zeros(32)\n",
    "floatb=np.zeros(32)\n",
    "i=0\n",
    "if(x_int<0):\n",
    "    x_int+=1\n",
    "while x_int !=0:\n",
    "    intb[i]=x_int%2\n",
    "    i+=1\n",
    "    x_int=x_int//2                                                                                                                                                                                                                            \n",
    "if(x_int<0):\n",
    "    intb[31]=1\n",
    "for i in range(32):\n",
    "    floatb[i]=int(x_float*2)\n",
    "    x_float=x_float*2-floatb[i]\n",
    "print(\"转化成二进制后\\n\")\n",
    "for i in range(32):\n",
    "    print(int(intb[31-i]),end='')\n",
    "print(\".\",end='')\n",
    "for i in range(32):\n",
    "    print(int(floatb[i]),end='')"
   ]
  },
  {
   "cell_type": "code",
   "execution_count": 5,
   "metadata": {},
   "outputs": [
    {
     "name": "stdout",
     "output_type": "stream",
     "text": [
      "生成的随机浮点数: 16.732326250559566\n"
     ]
    }
   ],
   "source": [
    "# 4. 编写Python程序，产生10-20的随机浮点数\n",
    "import random\n",
    "x=random.uniform(10, 20)\n",
    "print(\"生成的随机浮点数:\", x)"
   ]
  },
  {
   "cell_type": "code",
   "execution_count": 9,
   "metadata": {},
   "outputs": [
    {
     "name": "stdout",
     "output_type": "stream",
     "text": [
      "是回文数\n"
     ]
    }
   ],
   "source": [
    "# 5. 编写一个Python函数，判断一个整数是否是回文数。回文数是指正序（从左向右）和倒序（从右向左）读都是一样的数。\n",
    "x=(input(\"请输入一个整数\"))\n",
    "i=len(x)\n",
    "j=0\n",
    "p=0\n",
    "for j in range(i//2):\n",
    "    if x[j]!=x[i-1-j]:\n",
    "        print(\"不是回文数\")\n",
    "        p=1\n",
    "    break\n",
    "if p==0:\n",
    "    print(\"是回文数\")\n"
   ]
  },
  {
   "cell_type": "code",
   "execution_count": 12,
   "metadata": {},
   "outputs": [
    {
     "name": "stdout",
     "output_type": "stream",
     "text": [
      "0\n",
      "1\n",
      "1\n",
      "2\n",
      "3\n"
     ]
    }
   ],
   "source": [
    "# 6.编写一个Python函数，返回一个包含斐波那契数列的前N个数的列表。斐波那契数列是一个数列，其中每个数是前两个数的和，数列以0和1开始。\n",
    "N=int(input(\"请输入数组的长度\"))\n",
    "fib=[0]*N\n",
    "i=0\n",
    "fib[0]=0\n",
    "fib[1]=1\n",
    "for i in range(2,N):\n",
    "    fib[i]=fib[i-1]+fib[i-2]\n",
    "for i in range(N):\n",
    "    print(fib[i])\n"
   ]
  },
  {
   "cell_type": "code",
   "execution_count": 13,
   "metadata": {},
   "outputs": [
    {
     "name": "stdout",
     "output_type": "stream",
     "text": [
      "1\n"
     ]
    }
   ],
   "source": [
    "# 7.编写一个Python函数，接受一个整数数组作为输入，返回数组中第二大的数。如果数组中只有一个元素或数组为空，则返回-1。\n",
    "n=int(input(\"请输入数组的长度\"))\n",
    "arr=[0]*n\n",
    "for i in range(n):\n",
    "    arr[i]=int(input(\"请输入数组的第%d个元素\"%(i+1)))\n",
    "for i in range(n-1):\n",
    "    while arr[i]<arr[i+1]:\n",
    "        arr[i],arr[i+1]=arr[i+1],arr[i]\n",
    "        i+=1\n",
    "if n<2:\n",
    "    print(\"-1\")\n",
    "else:\n",
    "    print(arr[n-2])\n"
   ]
  },
  {
   "cell_type": "code",
   "execution_count": 16,
   "metadata": {},
   "outputs": [
    {
     "name": "stdout",
     "output_type": "stream",
     "text": [
      "身份证号合法\n"
     ]
    }
   ],
   "source": [
    "# 8. 编写一个函数，使其能够用正则表达式的方式简单验证身份证号是否合法。\n",
    "import re\n",
    "def validate_id_card(id_card):\n",
    "    pattern = r'^[1-9]\\d{5}(?:19|20)\\d{2}(?:0[1-9]|1[0-2])(?:0[1-9]|[12][0-9]|3[01])\\d{3}[0-9Xx]$'\n",
    "    return bool(re.match(pattern, id_card))\n",
    "id_card=input(\"请输入身份证号\")\n",
    "if validate_id_card(id_card):\n",
    "    print(\"身份证号合法\")\n",
    "else:\n",
    "    print(\"身份证号不合法\")"
   ]
  }
 ],
 "metadata": {
  "kernelspec": {
   "display_name": "Python 3",
   "language": "python",
   "name": "python3"
  },
  "language_info": {
   "codemirror_mode": {
    "name": "ipython",
    "version": 3
   },
   "file_extension": ".py",
   "mimetype": "text/x-python",
   "name": "python",
   "nbconvert_exporter": "python",
   "pygments_lexer": "ipython3",
   "version": "3.12.4"
  }
 },
 "nbformat": 4,
 "nbformat_minor": 2
}
