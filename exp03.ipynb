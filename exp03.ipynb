{
 "cells": [
  {
   "cell_type": "code",
   "execution_count": 3,
   "metadata": {},
   "outputs": [
    {
     "name": "stdout",
     "output_type": "stream",
     "text": [
      "114514 不是质数\n"
     ]
    }
   ],
   "source": [
    "#1.编写 Python程序,判断输入a是否为质数\n",
    "import math\n",
    "num=int(input(\"请输入一个整数：\"))\n",
    "if num<2:\n",
    "    print(num,\"不是质数\")\n",
    "elif num==2:\n",
    "    print(num,\"是质数\")\n",
    "else:\n",
    "    for i in  range(2,int(math.sqrt(num))):\n",
    "        if num%i==0:\n",
    "            print(num,\"不是质数\")\n",
    "            break"
   ]
  },
  {
   "cell_type": "code",
   "execution_count": 4,
   "metadata": {},
   "outputs": [
    {
     "name": "stdout",
     "output_type": "stream",
     "text": [
      "1 1 1 4 4 5 "
     ]
    }
   ],
   "source": [
    "#2.用Python实现插入排序该算法，不允许直接调用插入排序函数，需要手动实现其逻辑过程。\n",
    "n=int(input(\"请输入数组长度\"))\n",
    "arr=n*[0]\n",
    "for i in range(n):\n",
    "    arr[i]=int(input(\"请输入第%d个元素\"%(i+1)))\n",
    "for i in range(n):\n",
    "    while arr[i]<arr[i-1] and i>0:\n",
    "        arr[i],arr[i-1]=arr[i-1],arr[i]\n",
    "        i-=1\n",
    "for i in range(n):\n",
    "    print(arr[i],end=\" \")\n"
   ]
  },
  {
   "cell_type": "code",
   "execution_count": 7,
   "metadata": {},
   "outputs": [
    {
     "name": "stdout",
     "output_type": "stream",
     "text": [
      "排序后的数组: [1, 3, 4, 5, 8, 9]\n"
     ]
    }
   ],
   "source": [
    "# 3. 用Python实现选择排序该算法，不允许直接调用插入排序函数，需要手动实现其逻辑过程\n",
    "n = int(input(\"请输入数组长度: \"))\n",
    "arr = [0] * n\n",
    "for i in range(n):\n",
    "    arr[i] = int(input(\"请输入第{}个元素: \".format(i + 1)))\n",
    "for i in range(n):\n",
    "    min_index = i\n",
    "    for j in range(i + 1, n):\n",
    "        if arr[j] < arr[min_index]:\n",
    "            min_index = j\n",
    "    arr[i], arr[min_index] = arr[min_index], arr[i]\n",
    "print(\"排序后的数组:\", arr)"
   ]
  },
  {
   "cell_type": "code",
   "execution_count": 2,
   "metadata": {},
   "outputs": [
    {
     "name": "stdout",
     "output_type": "stream",
     "text": [
      "排序后的数组: [1, 1, 1, 4, 4, 5]\n"
     ]
    }
   ],
   "source": [
    "#4.用Python实现快速排序该算法，不允许直接调用插入排序函数，需要手动实现其逻辑过程。\n",
    "def quick_sort(arr):\n",
    "    if len(arr) <= 1:\n",
    "        return arr\n",
    "    else:\n",
    "        pivot = arr[-1]\n",
    "        left = [x for x in arr[:-1] if x <= pivot]\n",
    "        right = [x for x in arr[:-1] if x > pivot]\n",
    "        return quick_sort(left) + [pivot] + quick_sort(right)\n",
    "n = int(input(\"请输入数组长度: \"))\n",
    "arr = [0] * n\n",
    "for i in range(n):\n",
    "    arr[i] = int(input(\"请输入第{}个元素: \".format(i + 1)))\n",
    "sorted_arr = quick_sort(arr)\n",
    "print(\"排序后的数组:\", sorted_arr)"
   ]
  },
  {
   "cell_type": "code",
   "execution_count": 4,
   "metadata": {},
   "outputs": [
    {
     "name": "stdout",
     "output_type": "stream",
     "text": [
      "Selection Sort - 平均运行时间: 0.382295 秒\n",
      "Merge Sort - 平均运行时间: 0.004002 秒\n",
      "Bubble Sort - 平均运行时间: 0.935520 秒\n",
      "Quick Sort - 平均运行时间: 0.003666 秒\n"
     ]
    }
   ],
   "source": [
    "#5.使用 Python 随机生成三组长度递增的随机数列，长度分别为100、1000、10000，对生成的随机数组使用不同的排序算法，例如选择排序和归并排序，至少三种排序方法。对这些数列的数据排序，并分析不同排序算法在不同长度数列下的运行效果，例如运行时间等指标。\n",
    "import random\n",
    "def generate_random_lists():\n",
    "    lists = []\n",
    "    for length in [100, 1000, 10000]:\n",
    "        random_list = [random.randint(1, 10000) for _ in range(length)]\n",
    "        lists.append(random_list)\n",
    "    return lists\n",
    "def selection_sort(arr):\n",
    "    for i in range(len(arr)):\n",
    "        min_index = i\n",
    "        for j in range(i+1, len(arr)):\n",
    "            if arr[j] < arr[min_index]:\n",
    "                min_index = j\n",
    "        arr[i], arr[min_index] = arr[min_index], arr[i]\n",
    "\n",
    "def merge_sort(arr):\n",
    "    if len(arr) > 1:\n",
    "        mid = len(arr) // 2\n",
    "        left_half = arr[:mid]\n",
    "        right_half = arr[mid:]\n",
    "\n",
    "        merge_sort(left_half)\n",
    "        merge_sort(right_half)\n",
    "\n",
    "        i = j = k = 0\n",
    "        while i < len(left_half) and j < len(right_half):\n",
    "            if left_half[i] < right_half[j]:\n",
    "                arr[k] = left_half[i]\n",
    "                i += 1\n",
    "            else:\n",
    "                arr[k] = right_half[j]\n",
    "                j += 1\n",
    "            k += 1\n",
    "\n",
    "        while i < len(left_half):\n",
    "            arr[k] = left_half[i]\n",
    "            i += 1\n",
    "            k += 1\n",
    "\n",
    "        while j < len(right_half):\n",
    "            arr[k] = right_half[j]\n",
    "            j += 1\n",
    "            k += 1\n",
    "\n",
    "def bubble_sort(arr):\n",
    "    n = len(arr)\n",
    "    for i in range(n):\n",
    "        swapped = False\n",
    "        for j in range(0, n-i-1):\n",
    "            if arr[j] > arr[j+1]:\n",
    "                arr[j], arr[j+1] = arr[j+1], arr[j]\n",
    "                swapped = True\n",
    "        if not swapped:\n",
    "            break\n",
    "\n",
    "def quick_sort(arr):\n",
    "    if len(arr) <= 1:\n",
    "        return arr\n",
    "    else:\n",
    "        pivot = arr[-1]\n",
    "        left = [x for x in arr[:-1] if x <= pivot]\n",
    "        right = [x for x in arr[:-1] if x > pivot]\n",
    "        return quick_sort(left) + [pivot] + quick_sort(right)\n",
    "    \n",
    "import time\n",
    "\n",
    "def measure_performance(sort_func, lists):\n",
    "    results = []\n",
    "    for lst in lists:\n",
    "        start_time = time.time()\n",
    "        sort_func(lst.copy())  \n",
    "        end_time = time.time()\n",
    "        elapsed_time = end_time - start_time\n",
    "        results.append(elapsed_time)\n",
    "    return results\n",
    "lists = generate_random_lists()\n",
    "\n",
    "algorithms = {\n",
    "    'Selection Sort': selection_sort,\n",
    "    'Merge Sort': merge_sort,\n",
    "    'Bubble Sort': bubble_sort,\n",
    "    'Quick Sort': quick_sort\n",
    "}\n",
    "\n",
    "for name, func in algorithms.items():\n",
    "    times = measure_performance(func, lists)\n",
    "    print(f\"{name} - 平均运行时间: {sum(times)/len(times):.6f} 秒\")"
   ]
  },
  {
   "cell_type": "code",
   "execution_count": 5,
   "metadata": {},
   "outputs": [
    {
     "name": "stdout",
     "output_type": "stream",
     "text": [
      "当前的日期和时间: 2024-10-15 15:01:04.025211\n"
     ]
    }
   ],
   "source": [
    "#6.使用python代码获取当前系统时间\n",
    "import datetime\n",
    "\n",
    "# 获取当前的日期和时间\n",
    "current_time = datetime.datetime.now()\n",
    "\n",
    "print(\"当前的日期和时间:\", current_time)"
   ]
  },
  {
   "cell_type": "code",
   "execution_count": 10,
   "metadata": {},
   "outputs": [
    {
     "name": "stdout",
     "output_type": "stream",
     "text": [
      "语文平均成绩: 82.6\n",
      "数学平均成绩: 81.0\n",
      "英语平均成绩: 81.8\n"
     ]
    }
   ],
   "source": [
    "#7.homework/data文件夹下的stuGrade.csv文件中包含5位同学的学号、语文成绩、数学成绩和英语成绩，请先用记事本打开该文件，查看文件内容，然后编写Python程序，读取该文件，并计算出各科的平均成绩（保留2位小数）。请在第7题的代码继续编写Python程序，将以下内容写入my.txt文件中，一并上传到github中。\n",
    "import csv\n",
    "\n",
    "# 定义读取 CSV 文件并计算平均成绩的函数\n",
    "def calculate_average_grades(filename):\n",
    "    # 初始化总成绩和计数器\n",
    "    total_chinese = 0\n",
    "    total_math = 0\n",
    "    total_english = 0\n",
    "    count = 0\n",
    "    \n",
    "    with open(filename, mode='r', newline='', encoding='utf-8') as file:\n",
    "        reader = csv.DictReader(file)\n",
    "        for row in reader:\n",
    "            total_chinese += int(row['chinese'])\n",
    "            total_math += int(row['math'])\n",
    "            total_english += int(row['english'])\n",
    "            count += 1\n",
    "    \n",
    "    # 计算平均成绩\n",
    "    average_chinese = round(total_chinese / count, 2)\n",
    "    average_math = round(total_math / count, 2)\n",
    "    average_english = round(total_english / count, 2)\n",
    "    \n",
    "    return average_chinese, average_math, average_english\n",
    "\n",
    "# 调用函数并获取平均成绩\n",
    "average_chinese, average_math, average_english = calculate_average_grades('D:/newcode/dase introduction/stuGrade.csv')\n",
    "\n",
    "# 输出结果\n",
    "print(\"语文平均成绩:\", average_chinese)\n",
    "print(\"数学平均成绩:\", average_math)\n",
    "print(\"英语平均成绩:\", average_english)\n",
    "\n",
    "# 定义写入结果到文件的函数\n",
    "def write_results_to_file(average_chinese, average_math, average_english, filename):\n",
    "    with open(filename, mode='w', encoding='utf-8') as file:\n",
    "        file.write(f\"语文平均成绩: {average_chinese}\\n\")\n",
    "        file.write(f\"数学平均成绩: {average_math}\\n\")\n",
    "        file.write(f\"英语平均成绩: {average_english}\\n\")\n",
    "\n",
    "# 调用函数并将结果写入文件\n",
    "write_results_to_file(average_chinese, average_math, average_english, 'D:/newcode/dase introduction/my.txt')"
   ]
  }
 ],
 "metadata": {
  "kernelspec": {
   "display_name": "Python 3",
   "language": "python",
   "name": "python3"
  },
  "language_info": {
   "codemirror_mode": {
    "name": "ipython",
    "version": 3
   },
   "file_extension": ".py",
   "mimetype": "text/x-python",
   "name": "python",
   "nbconvert_exporter": "python",
   "pygments_lexer": "ipython3",
   "version": "3.12.4"
  }
 },
 "nbformat": 4,
 "nbformat_minor": 2
}
