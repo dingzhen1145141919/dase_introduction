{
 "cells": [
  {
   "cell_type": "code",
   "execution_count": 12,
   "metadata": {},
   "outputs": [
    {
     "name": "stdout",
     "output_type": "stream",
     "text": [
      "★★★★★★★★★★★★★★★★★★★★★★★★★★★★★★\n",
      "★★★★★★★★★★数据科学与工程导论★★★★★★★★★★★\n",
      "★★★★★★★★★★★★★★★★★★★★★★★★★★★★★★\n"
     ]
    }
   ],
   "source": [
    "#编写Python程序，打印\"数据科学与工程导论\"，并使用 print(chr(0x2605)) 语句将星星包围起来。\n",
    "s = chr(0x2605)\n",
    "print(s * 30)\n",
    "print(f\"{s * 10}数据科学与工程导论{s * 11}\")\n",
    "print(s * 30)"
   ]
  },
  {
   "cell_type": "code",
   "execution_count": 24,
   "metadata": {},
   "outputs": [
    {
     "name": "stdout",
     "output_type": "stream",
     "text": [
      "从小到大排序后的结果为:\n",
      "1.14 5.14 1919810.0\n"
     ]
    }
   ],
   "source": [
    "#写一个 Python 程序，输入 x, y, z 这三个数，将这三个数从小到大使用 print 函数打印出来。\n",
    "x = float(input(\"请输入第一个数 x: \"))\n",
    "y = float(input(\"请输入第二个数 y: \"))\n",
    "z = float(input(\"请输入第三个数 z: \"))\n",
    "numbers = [x, y, z]\n",
    "numbers.sort(reverse=False)\n",
    "print(\"从小到大排序后的结果为:\")\n",
    "print(numbers[0], numbers[1], numbers[2])"
   ]
  },
  {
   "cell_type": "code",
   "execution_count": 8,
   "metadata": {},
   "outputs": [
    {
     "name": "stdout",
     "output_type": "stream",
     "text": [
      "从大到小排序后的结果为:\n",
      "1919.0 810.0 5.14 1.14\n"
     ]
    }
   ],
   "source": [
    "#写一个 Python 程序，有 w, x, y, z 四个数，将这四个数从大到小使用 print 函数打印出来。\n",
    "w = float(input(\"请输入第一个数 w: \"))\n",
    "x = float(input(\"请输入第二个数 x: \"))\n",
    "y = float(input(\"请输入第三个数 y: \"))\n",
    "z = float(input(\"请输入第四个数 z: \"))\n",
    "numbers = [w, x, y, z]\n",
    "numbers.sort( reverse = True)\n",
    "print(\"从大到小排序后的结果为:\")\n",
    "print(numbers[0], numbers[1], numbers[2],  numbers[3])"
   ]
  },
  {
   "cell_type": "code",
   "execution_count": 11,
   "metadata": {},
   "outputs": [
    {
     "name": "stdout",
     "output_type": "stream",
     "text": [
      "1\n",
      "3\n",
      "5\n",
      "7\n",
      "9\n",
      "11\n",
      "13\n",
      "15\n",
      "17\n",
      "19\n",
      "21\n",
      "23\n",
      "25\n",
      "27\n",
      "29\n",
      "31\n",
      "33\n",
      "35\n",
      "37\n",
      "39\n",
      "41\n",
      "43\n",
      "45\n",
      "47\n",
      "49\n",
      "51\n",
      "53\n",
      "55\n",
      "57\n",
      "59\n",
      "61\n",
      "63\n",
      "65\n",
      "67\n",
      "69\n",
      "71\n",
      "73\n",
      "75\n",
      "77\n",
      "79\n",
      "81\n",
      "83\n",
      "85\n",
      "87\n",
      "89\n",
      "91\n",
      "93\n",
      "95\n",
      "97\n",
      "99\n"
     ]
    }
   ],
   "source": [
    "#写一个 Python 程序，输出 1-100 中的所有奇数。\n",
    "for num in range(1, 101):\n",
    "    # 判断是否为奇数\n",
    "    if num % 2 != 0:\n",
    "        print(num)"
   ]
  },
  {
   "cell_type": "code",
   "execution_count": 18,
   "metadata": {},
   "outputs": [
    {
     "name": "stdout",
     "output_type": "stream",
     "text": [
      "1-100累加结果为 5050\n"
     ]
    }
   ],
   "source": [
    "#写一个 Python 程序，用 for 循环，求解 1 到 100 的和。\n",
    "total=0\n",
    "for num in range(1,101):\n",
    "    total += num\n",
    "print(\"1-100累加结果为\",total)\n"
   ]
  },
  {
   "cell_type": "code",
   "execution_count": 23,
   "metadata": {},
   "outputs": [
    {
     "name": "stdout",
     "output_type": "stream",
     "text": [
      "9\n",
      "9\n",
      "8\n",
      "5\n",
      "4\n",
      "4\n",
      "1\n",
      "1\n",
      "1\n",
      "1\n",
      "1\n",
      "1\n",
      "0\n",
      "\n",
      "\n",
      "9\n",
      "9\n",
      "8\n",
      "5\n",
      "4\n",
      "4\n",
      "1\n",
      "1\n",
      "1\n",
      "1\n",
      "1\n",
      "1\n",
      "0\n"
     ]
    }
   ],
   "source": [
    "#写一个 Python 程序，分别用 for 和 while 循环实现对一个给定序列的倒排序输出。例如，给定 L=[1,2,3,4,5]，输出为 [5,4,3,2,1]\n",
    "homo=[1,1,4,5,1,4,1,9,1,9,8,1,0]\n",
    "homo.sort()\n",
    "for i in range(len(homo)):\n",
    "    print(homo[len(homo)-i-1])\n",
    "t=0\n",
    "print(\"\\n\")\n",
    "while(t<len(homo)):\n",
    "    print(homo[len(homo)-t-1])\n",
    "    t+=1\n",
    "\n"
   ]
  },
  {
   "cell_type": "code",
   "execution_count": 3,
   "metadata": {},
   "outputs": [
    {
     "name": "stdout",
     "output_type": "stream",
     "text": [
      "不包含连续出现的字符\n"
     ]
    }
   ],
   "source": [
    "#写一个 Python 程序，判断一个输入的字符串 S 是否包含由两个或两个以上连续出现的相同字符组成的字符串。例如，abccccda 中就包含 cccc 这个由 4 个连续字符组成的字符串。\n",
    "s = input(\"请输入一个字符串: \")\n",
    "i = 0\n",
    "while(i<len(s)-1):\n",
    "    if(s[i]==s[i+1]):\n",
    "        print(\"包含连续出现的字符\")\n",
    "        break\n",
    "    i+=1\n",
    "print(\"不包含连续出现的字符\")"
   ]
  },
  {
   "cell_type": "code",
   "execution_count": 6,
   "metadata": {},
   "outputs": [
    {
     "name": "stdout",
     "output_type": "stream",
     "text": [
      "删去空格后的字符串是: 114514\n"
     ]
    }
   ],
   "source": [
    "#写一个 Python 程序，输入一个字符串 S，去掉其中所有的空格后输出。例如，“DataScience and Engineering”，去掉空格后为“DataScienceandEngineering”\n",
    "s = input(\"请输入一个字符串: \")\n",
    "result = s.replace(\" \", \"\")\n",
    "print(f\"删去空格后的字符串是: {result}\")"
   ]
  },
  {
   "cell_type": "code",
   "execution_count": 13,
   "metadata": {},
   "outputs": [
    {
     "name": "stdout",
     "output_type": "stream",
     "text": [
      "方程的一个解为: -1.650629191439388\n"
     ]
    }
   ],
   "source": [
    "#请设计一个求 3 次方根的算法（不允许直接调用求方根的函数），并给出对应的 Python 程序。 采用牛顿迭代法求解。\n",
    "a = float(input(\"请输入一元三次方程的三次方项系数: \"))\n",
    "b = float(input(\"请输入一元三次方程的二次方项系数: \"))\n",
    "c = float(input(\"请输入一元三次方程的一次方项系数: \"))\n",
    "d = float(input(\"请输入一元三次方程的常数项系数: \"))\n",
    "ans = 1.0\n",
    "for _ in range(1000):\n",
    "    ans = (2 * a * ans**3 + b * ans**2 - d) / (3 * a * ans**2 + 2 * b * ans + c)\n",
    "precision = 15  \n",
    "formatted_ans = f\"{ans:.{precision}f}\"\n",
    "print(f\"方程的一个解为: {formatted_ans}\")\n"
   ]
  },
  {
   "cell_type": "code",
   "execution_count": 29,
   "metadata": {},
   "outputs": [
    {
     "name": "stdout",
     "output_type": "stream",
     "text": [
      "6!= 720\n"
     ]
    }
   ],
   "source": [
    "#写一个 Python 程序，给定一个常数 n（n>0），求 n 的阶乘，即 n!=1×2×...×(n-1)×n。例如，4!=24，5!=120\n",
    "n = int(input(\"请输入一个正整数 n: \"))\n",
    "factorial = 1\n",
    "for i in range(1, n + 1):\n",
    "        factorial *= i\n",
    "print(f\"{n}!= {factorial}\")"
   ]
  }
 ],
 "metadata": {
  "kernelspec": {
   "display_name": "Python 3",
   "language": "python",
   "name": "python3"
  },
  "language_info": {
   "codemirror_mode": {
    "name": "ipython",
    "version": 3
   },
   "file_extension": ".py",
   "mimetype": "text/x-python",
   "name": "python",
   "nbconvert_exporter": "python",
   "pygments_lexer": "ipython3",
   "version": "3.12.4"
  }
 },
 "nbformat": 4,
 "nbformat_minor": 2
}
